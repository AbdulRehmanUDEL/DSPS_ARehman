{
 "cells": [
  {
   "cell_type": "markdown",
   "metadata": {
    "colab_type": "text",
    "id": "nS4S7msAPK_R"
   },
   "source": [
    "- Download the Higgs boson data from Kaggle (programmatically within the notebook)\n",
    "see how I did it in the Titanic Trees notebook https://github.com/fedhere/DSPS/blob/master/lab9/titanictree.ipynb\n",
    "\n",
    "find the correct API link here https://www.kaggle.com/c/higgs-boson/data\n"
   ]
  },
  {
   "cell_type": "code",
   "execution_count": 25,
   "metadata": {
    "colab": {
     "base_uri": "https://localhost:8080/",
     "height": 34
    },
    "colab_type": "code",
    "id": "D-YQHfF8Y0b4",
    "outputId": "9a31cc62-66e9-42ef-940c-0a734ed56527"
   },
   "outputs": [
    {
     "name": "stdout",
     "output_type": "stream",
     "text": [
      "Populating the interactive namespace from numpy and matplotlib\n"
     ]
    }
   ],
   "source": [
    "import pandas as pd\n",
    "import numpy as np\n",
    "import pylab as pl\n",
    "import os\n",
    "import json \n",
    "%pylab inline\n",
    "pl.style.use(\"https://raw.githubusercontent.com/fedhere/DSPS/master/fbb.mplstyle\")"
   ]
  },
  {
   "cell_type": "code",
   "execution_count": 2,
   "metadata": {
    "colab": {
     "base_uri": "https://localhost:8080/",
     "height": 204
    },
    "colab_type": "code",
    "id": "JnQw1td5Ytrm",
    "outputId": "44a30f96-8aed-428b-9bd5-d641791ddac5"
   },
   "outputs": [
    {
     "name": "stdout",
     "output_type": "stream",
     "text": [
      "Requirement already satisfied: kaggle in /usr/local/lib/python3.6/dist-packages (1.5.6)\n",
      "Requirement already satisfied: python-slugify in /usr/local/lib/python3.6/dist-packages (from kaggle) (4.0.0)\n",
      "Requirement already satisfied: urllib3<1.25,>=1.21.1 in /usr/local/lib/python3.6/dist-packages (from kaggle) (1.24.3)\n",
      "Requirement already satisfied: requests in /usr/local/lib/python3.6/dist-packages (from kaggle) (2.21.0)\n",
      "Requirement already satisfied: python-dateutil in /usr/local/lib/python3.6/dist-packages (from kaggle) (2.6.1)\n",
      "Requirement already satisfied: six>=1.10 in /usr/local/lib/python3.6/dist-packages (from kaggle) (1.12.0)\n",
      "Requirement already satisfied: tqdm in /usr/local/lib/python3.6/dist-packages (from kaggle) (4.28.1)\n",
      "Requirement already satisfied: certifi in /usr/local/lib/python3.6/dist-packages (from kaggle) (2019.9.11)\n",
      "Requirement already satisfied: text-unidecode>=1.3 in /usr/local/lib/python3.6/dist-packages (from python-slugify->kaggle) (1.3)\n",
      "Requirement already satisfied: chardet<3.1.0,>=3.0.2 in /usr/local/lib/python3.6/dist-packages (from requests->kaggle) (3.0.4)\n",
      "Requirement already satisfied: idna<2.9,>=2.5 in /usr/local/lib/python3.6/dist-packages (from requests->kaggle) (2.8)\n"
     ]
    }
   ],
   "source": [
    "pip install kaggle"
   ]
  },
  {
   "cell_type": "code",
   "execution_count": 26,
   "metadata": {
    "colab": {
     "base_uri": "https://localhost:8080/",
     "height": 34
    },
    "colab_type": "code",
    "id": "n8NuP5JIY7iu",
    "outputId": "b2fdcbb0-3756-4355-ae67-b5e6a6d4ede7"
   },
   "outputs": [
    {
     "name": "stdout",
     "output_type": "stream",
     "text": [
      "Drive already mounted at /content/gdrive; to attempt to forcibly remount, call drive.mount(\"/content/gdrive\", force_remount=True).\n"
     ]
    }
   ],
   "source": [
    "from google.colab import drive\n",
    "\n",
    "drive.mount(\"/content/gdrive\")"
   ]
  },
  {
   "cell_type": "code",
   "execution_count": 3,
   "metadata": {
    "colab": {
     "base_uri": "https://localhost:8080/",
     "height": 34
    },
    "colab_type": "code",
    "id": "yFMl3O6CZAax",
    "outputId": "b7f2f362-ec12-4e44-faf2-c1d99f6126d3"
   },
   "outputs": [
    {
     "name": "stdout",
     "output_type": "stream",
     "text": [
      "/content/gdrive/My Drive\n"
     ]
    }
   ],
   "source": [
    "cd gdrive/My\\ Drive/"
   ]
  },
  {
   "cell_type": "code",
   "execution_count": 7,
   "metadata": {
    "colab": {
     "base_uri": "https://localhost:8080/",
     "height": 34
    },
    "colab_type": "code",
    "id": "7RENc-9uZL8b",
    "outputId": "7c26e56b-bd38-41f6-fe3a-783bd7a5dcb6"
   },
   "outputs": [
    {
     "name": "stdout",
     "output_type": "stream",
     "text": [
      "kaggle.json\n"
     ]
    }
   ],
   "source": [
    "ls kaggle.json"
   ]
  },
  {
   "cell_type": "code",
   "execution_count": 0,
   "metadata": {
    "colab": {},
    "colab_type": "code",
    "id": "wcMINLpmZOa-"
   },
   "outputs": [],
   "source": [
    "!chmod 600 kaggle.json"
   ]
  },
  {
   "cell_type": "code",
   "execution_count": 0,
   "metadata": {
    "colab": {},
    "colab_type": "code",
    "id": "JNr_nNSrZS2a"
   },
   "outputs": [],
   "source": [
    "envs = json.load(open(\"kaggle.json\", \"r\"))\n",
    "os.environ[\"KAGGLE_USERNAME\"] = envs['username']\n",
    "os.environ[\"KAGGLE_KEY\"] = envs['key']"
   ]
  },
  {
   "cell_type": "code",
   "execution_count": 9,
   "metadata": {
    "colab": {
     "base_uri": "https://localhost:8080/",
     "height": 428
    },
    "colab_type": "code",
    "id": "zF3e9XU4ZW9I",
    "outputId": "e0c37ece-5af9-493c-d498-e59af1f4049b"
   },
   "outputs": [
    {
     "name": "stdout",
     "output_type": "stream",
     "text": [
      "Warning: Looks like you're using an outdated API Version, please consider updating (server 1.5.6 / client 1.5.4)\n",
      "ref                                                      title                                               size  lastUpdated          downloadCount  \n",
      "-------------------------------------------------------  -------------------------------------------------  -----  -------------------  -------------  \n",
      "tristan581/17k-apple-app-store-strategy-games            17K Mobile Strategy Games                            8MB  2019-08-26 08:22:16          10572  \n",
      "rajeevw/ufcdata                                          UFC-Fight historical data from 1993 to 2019          3MB  2019-07-05 09:58:02           6078  \n",
      "shuyangli94/food-com-recipes-and-user-interactions       Food.com Recipes and Interactions                  267MB  2019-10-12 06:30:37           3405  \n",
      "gustavomodelli/forest-fires-in-brazil                    Forest Fires in Brazil                              31KB  2019-08-24 16:09:16          11617  \n",
      "akhilv11/border-crossing-entry-data                      Border Crossing Entry Data                           4MB  2019-08-21 14:51:34           5034  \n",
      "chirin/africa-economic-banking-and-systemic-crisis-data  Africa Economic, Banking and Systemic Crisis Data   14KB  2019-07-21 02:00:17           3799  \n",
      "ruslankl/european-union-lgbt-survey-2012                 EU LGBT Survey                                     610KB  2019-07-19 11:15:25           1628  \n",
      "kapilverma/hindi-bible                                   Hindi Bible                                          5MB  2019-09-07 18:04:35            336  \n",
      "grikomsn/amazon-cell-phones-reviews                      Amazon Cell Phones Reviews                          10MB  2019-09-29 02:26:48           2327  \n",
      "brkurzawa/us-breweries                                   US Breweries                                        76KB  2019-10-02 03:15:27           1796  \n",
      "hmavrodiev/sofia-air-quality-dataset                     Sofia air quality dataset                            3GB  2019-09-14 05:48:09           1327  \n",
      "pascalbliem/european-social-survey-ess-8-ed21-201617     European Social Survey (ESS) 8 ed2.1 (2016/17)      10MB  2019-09-29 07:30:37            627  \n",
      "srikantsahu/co2-and-ghg-emission-data                    CO2 and GHG emission data                           91KB  2019-09-26 20:10:59           1655  \n",
      "jojoker/singapore-airbnb                                 Singapore Airbnb                                   350KB  2019-09-25 22:05:44           2109  \n",
      "irinachuchueva/russian-wholesale-electricity-market      Russian Wholesale Electricity Market                 1MB  2019-10-09 08:20:57            590  \n",
      "smid80/canadian-federal-election-results-timeseries      Canadian Federal Election Results (Timeseries)      18MB  2019-10-09 11:08:29            597  \n",
      "mabusalah/brent-oil-prices                               Brent Oil Prices                                    38KB  2019-10-14 12:31:05           1490  \n",
      "nitinsss/military-expenditure-of-countries-19602019      Military Spending of Countries (1960-2019)          55KB  2019-10-10 12:17:37           2721  \n",
      "hmavrodiev/london-bike-sharing-dataset                   London bike sharing dataset                        165KB  2019-10-10 12:49:37           2939  \n",
      "valentynsichkar/traffic-signs-preprocessed               Traffic Signs Preprocessed                            0B  2019-08-31 18:22:11           1247  \n"
     ]
    }
   ],
   "source": [
    "#check that it worked by listing the kaggle datasets\n",
    "!kaggle datasets list"
   ]
  },
  {
   "cell_type": "code",
   "execution_count": 4,
   "metadata": {
    "colab": {
     "base_uri": "https://localhost:8080/",
     "height": 34
    },
    "colab_type": "code",
    "id": "VvmvgLrNZh1p",
    "outputId": "d8f9f59e-bd9a-422a-f187-ff1a452fe2b3"
   },
   "outputs": [
    {
     "name": "stdout",
     "output_type": "stream",
     "text": [
      "/content/gdrive/My Drive/dsps\n"
     ]
    }
   ],
   "source": [
    "cd dsps"
   ]
  },
  {
   "cell_type": "code",
   "execution_count": 0,
   "metadata": {
    "colab": {},
    "colab_type": "code",
    "id": "IeozhawFZjWl"
   },
   "outputs": [],
   "source": [
    "#create a directory for these data\n",
    "!mkdir higgsbosonSearch"
   ]
  },
  {
   "cell_type": "code",
   "execution_count": 5,
   "metadata": {
    "colab": {
     "base_uri": "https://localhost:8080/",
     "height": 34
    },
    "colab_type": "code",
    "id": "TIHBnbpCZqLJ",
    "outputId": "298ffcb0-c474-4c09-b7cc-9eea8c94086c"
   },
   "outputs": [
    {
     "name": "stdout",
     "output_type": "stream",
     "text": [
      "/content/gdrive/My Drive/dsps/higgsbosonSearch\n"
     ]
    }
   ],
   "source": [
    "#move to that directory\n",
    "cd higgsbosonSearch"
   ]
  },
  {
   "cell_type": "code",
   "execution_count": 15,
   "metadata": {
    "colab": {
     "base_uri": "https://localhost:8080/",
     "height": 238
    },
    "colab_type": "code",
    "id": "d6Sis4gqZwOs",
    "outputId": "896637a9-23d5-436e-c645-5824a89f71c0"
   },
   "outputs": [
    {
     "name": "stdout",
     "output_type": "stream",
     "text": [
      "Warning: Looks like you're using an outdated API Version, please consider updating (server 1.5.6 / client 1.5.4)\n",
      "Downloading random_submission.zip to /content/gdrive/My Drive/dsps/higgsbosonSearch\n",
      "  0% 0.00/2.58M [00:00<?, ?B/s]\n",
      "100% 2.58M/2.58M [00:00<00:00, 42.1MB/s]\n",
      "Downloading training.zip to /content/gdrive/My Drive/dsps/higgsbosonSearch\n",
      " 53% 9.00M/16.9M [00:01<00:00, 8.29MB/s]\n",
      "100% 16.9M/16.9M [00:01<00:00, 14.5MB/s]\n",
      "Downloading test.zip to /content/gdrive/My Drive/dsps/higgsbosonSearch\n",
      " 95% 33.0M/34.8M [00:00<00:00, 29.2MB/s]\n",
      "100% 34.8M/34.8M [00:00<00:00, 47.4MB/s]\n",
      "Downloading HiggsBosonCompetition_AMSMetric_rev1.py to /content/gdrive/My Drive/dsps/higgsbosonSearch\n",
      "  0% 0.00/3.15k [00:00<?, ?B/s]\n",
      "100% 3.15k/3.15k [00:00<00:00, 423kB/s]\n"
     ]
    }
   ],
   "source": [
    "!kaggle competitions download -c higgs-boson\n"
   ]
  },
  {
   "cell_type": "code",
   "execution_count": 16,
   "metadata": {
    "colab": {
     "base_uri": "https://localhost:8080/",
     "height": 51
    },
    "colab_type": "code",
    "id": "Cd9LTGuxaRtS",
    "outputId": "1c233627-791b-43d2-bfd6-b10c0e531096"
   },
   "outputs": [
    {
     "name": "stdout",
     "output_type": "stream",
     "text": [
      "HiggsBosonCompetition_AMSMetric_rev1.py  test.zip\n",
      "random_submission.zip                    training.zip\n"
     ]
    }
   ],
   "source": [
    "ls "
   ]
  },
  {
   "cell_type": "code",
   "execution_count": 17,
   "metadata": {
    "colab": {
     "base_uri": "https://localhost:8080/",
     "height": 85
    },
    "colab_type": "code",
    "id": "Tt73Xw5oaV2x",
    "outputId": "deeab953-513a-4329-e825-ece6474509f4"
   },
   "outputs": [
    {
     "name": "stdout",
     "output_type": "stream",
     "text": [
      "Archive:  training.zip\n",
      "  inflating: training.csv            \n",
      "Archive:  test.zip\n",
      "  inflating: test.csv                \n"
     ]
    }
   ],
   "source": [
    "!unzip training.zip\n",
    "!unzip test.zip"
   ]
  },
  {
   "cell_type": "code",
   "execution_count": 18,
   "metadata": {
    "colab": {
     "base_uri": "https://localhost:8080/",
     "height": 51
    },
    "colab_type": "code",
    "id": "4TujF5d5amDQ",
    "outputId": "0a5e8c1f-4b25-4e1c-9d69-5752791cbe6c"
   },
   "outputs": [
    {
     "name": "stdout",
     "output_type": "stream",
     "text": [
      "HiggsBosonCompetition_AMSMetric_rev1.py  test.csv  training.csv\n",
      "random_submission.zip                    test.zip  training.zip\n"
     ]
    }
   ],
   "source": [
    "ls"
   ]
  },
  {
   "cell_type": "markdown",
   "metadata": {
    "colab_type": "text",
    "id": "KMuvMJgOnlYo"
   },
   "source": [
    "\n",
    "- Read in the trainind data. Split the provided training data into a training and a test set. \n",
    "The last 2 columns are what you want to predict: \"weight\" and \"label\".\n",
    "Remove them from the input data and create a separate variable label and a separate variable weight, which will be your target variables for, respectively, classification and regression.\n",
    "\n"
   ]
  },
  {
   "cell_type": "code",
   "execution_count": 0,
   "metadata": {
    "colab": {},
    "colab_type": "code",
    "id": "SPtzrwiGb9JG"
   },
   "outputs": [],
   "source": [
    "higgsdata = pd.read_csv(\"training.csv\") # reading the data\n",
    "labels = higgsdata.Label.values ## creating the variables\n",
    "weights = higgsdata.Weight.values\n",
    "higgsdata.drop(columns=['Weight', 'Label'], inplace=True) ## droping the last two colomns"
   ]
  },
  {
   "cell_type": "code",
   "execution_count": 12,
   "metadata": {
    "colab": {
     "base_uri": "https://localhost:8080/",
     "height": 224
    },
    "colab_type": "code",
    "id": "BbYX1ZMebOrB",
    "outputId": "7d2466b2-f32a-4f4a-dced-8374bd476df5"
   },
   "outputs": [
    {
     "data": {
      "text/html": [
       "<div>\n",
       "<style scoped>\n",
       "    .dataframe tbody tr th:only-of-type {\n",
       "        vertical-align: middle;\n",
       "    }\n",
       "\n",
       "    .dataframe tbody tr th {\n",
       "        vertical-align: top;\n",
       "    }\n",
       "\n",
       "    .dataframe thead th {\n",
       "        text-align: right;\n",
       "    }\n",
       "</style>\n",
       "<table border=\"1\" class=\"dataframe\">\n",
       "  <thead>\n",
       "    <tr style=\"text-align: right;\">\n",
       "      <th></th>\n",
       "      <th>EventId</th>\n",
       "      <th>DER_mass_MMC</th>\n",
       "      <th>DER_mass_transverse_met_lep</th>\n",
       "      <th>DER_mass_vis</th>\n",
       "      <th>DER_pt_h</th>\n",
       "      <th>DER_deltaeta_jet_jet</th>\n",
       "      <th>DER_mass_jet_jet</th>\n",
       "      <th>DER_prodeta_jet_jet</th>\n",
       "      <th>DER_deltar_tau_lep</th>\n",
       "      <th>DER_pt_tot</th>\n",
       "      <th>DER_sum_pt</th>\n",
       "      <th>DER_pt_ratio_lep_tau</th>\n",
       "      <th>DER_met_phi_centrality</th>\n",
       "      <th>DER_lep_eta_centrality</th>\n",
       "      <th>PRI_tau_pt</th>\n",
       "      <th>PRI_tau_eta</th>\n",
       "      <th>PRI_tau_phi</th>\n",
       "      <th>PRI_lep_pt</th>\n",
       "      <th>PRI_lep_eta</th>\n",
       "      <th>PRI_lep_phi</th>\n",
       "      <th>PRI_met</th>\n",
       "      <th>PRI_met_phi</th>\n",
       "      <th>PRI_met_sumet</th>\n",
       "      <th>PRI_jet_num</th>\n",
       "      <th>PRI_jet_leading_pt</th>\n",
       "      <th>PRI_jet_leading_eta</th>\n",
       "      <th>PRI_jet_leading_phi</th>\n",
       "      <th>PRI_jet_subleading_pt</th>\n",
       "      <th>PRI_jet_subleading_eta</th>\n",
       "      <th>PRI_jet_subleading_phi</th>\n",
       "      <th>PRI_jet_all_pt</th>\n",
       "    </tr>\n",
       "  </thead>\n",
       "  <tbody>\n",
       "    <tr>\n",
       "      <th>0</th>\n",
       "      <td>100000</td>\n",
       "      <td>138.470</td>\n",
       "      <td>51.655</td>\n",
       "      <td>97.827</td>\n",
       "      <td>27.980</td>\n",
       "      <td>0.91</td>\n",
       "      <td>124.711</td>\n",
       "      <td>2.666</td>\n",
       "      <td>3.064</td>\n",
       "      <td>41.928</td>\n",
       "      <td>197.760</td>\n",
       "      <td>1.582</td>\n",
       "      <td>1.396</td>\n",
       "      <td>0.2</td>\n",
       "      <td>32.638</td>\n",
       "      <td>1.017</td>\n",
       "      <td>0.381</td>\n",
       "      <td>51.626</td>\n",
       "      <td>2.273</td>\n",
       "      <td>-2.414</td>\n",
       "      <td>16.824</td>\n",
       "      <td>-0.277</td>\n",
       "      <td>258.733</td>\n",
       "      <td>2</td>\n",
       "      <td>67.435</td>\n",
       "      <td>2.150</td>\n",
       "      <td>0.444</td>\n",
       "      <td>46.062</td>\n",
       "      <td>1.24</td>\n",
       "      <td>-2.475</td>\n",
       "      <td>113.497</td>\n",
       "    </tr>\n",
       "    <tr>\n",
       "      <th>1</th>\n",
       "      <td>100001</td>\n",
       "      <td>160.937</td>\n",
       "      <td>68.768</td>\n",
       "      <td>103.235</td>\n",
       "      <td>48.146</td>\n",
       "      <td>-999.00</td>\n",
       "      <td>-999.000</td>\n",
       "      <td>-999.000</td>\n",
       "      <td>3.473</td>\n",
       "      <td>2.078</td>\n",
       "      <td>125.157</td>\n",
       "      <td>0.879</td>\n",
       "      <td>1.414</td>\n",
       "      <td>-999.0</td>\n",
       "      <td>42.014</td>\n",
       "      <td>2.039</td>\n",
       "      <td>-3.011</td>\n",
       "      <td>36.918</td>\n",
       "      <td>0.501</td>\n",
       "      <td>0.103</td>\n",
       "      <td>44.704</td>\n",
       "      <td>-1.916</td>\n",
       "      <td>164.546</td>\n",
       "      <td>1</td>\n",
       "      <td>46.226</td>\n",
       "      <td>0.725</td>\n",
       "      <td>1.158</td>\n",
       "      <td>-999.000</td>\n",
       "      <td>-999.00</td>\n",
       "      <td>-999.000</td>\n",
       "      <td>46.226</td>\n",
       "    </tr>\n",
       "    <tr>\n",
       "      <th>2</th>\n",
       "      <td>100002</td>\n",
       "      <td>-999.000</td>\n",
       "      <td>162.172</td>\n",
       "      <td>125.953</td>\n",
       "      <td>35.635</td>\n",
       "      <td>-999.00</td>\n",
       "      <td>-999.000</td>\n",
       "      <td>-999.000</td>\n",
       "      <td>3.148</td>\n",
       "      <td>9.336</td>\n",
       "      <td>197.814</td>\n",
       "      <td>3.776</td>\n",
       "      <td>1.414</td>\n",
       "      <td>-999.0</td>\n",
       "      <td>32.154</td>\n",
       "      <td>-0.705</td>\n",
       "      <td>-2.093</td>\n",
       "      <td>121.409</td>\n",
       "      <td>-0.953</td>\n",
       "      <td>1.052</td>\n",
       "      <td>54.283</td>\n",
       "      <td>-2.186</td>\n",
       "      <td>260.414</td>\n",
       "      <td>1</td>\n",
       "      <td>44.251</td>\n",
       "      <td>2.053</td>\n",
       "      <td>-2.028</td>\n",
       "      <td>-999.000</td>\n",
       "      <td>-999.00</td>\n",
       "      <td>-999.000</td>\n",
       "      <td>44.251</td>\n",
       "    </tr>\n",
       "    <tr>\n",
       "      <th>3</th>\n",
       "      <td>100003</td>\n",
       "      <td>143.905</td>\n",
       "      <td>81.417</td>\n",
       "      <td>80.943</td>\n",
       "      <td>0.414</td>\n",
       "      <td>-999.00</td>\n",
       "      <td>-999.000</td>\n",
       "      <td>-999.000</td>\n",
       "      <td>3.310</td>\n",
       "      <td>0.414</td>\n",
       "      <td>75.968</td>\n",
       "      <td>2.354</td>\n",
       "      <td>-1.285</td>\n",
       "      <td>-999.0</td>\n",
       "      <td>22.647</td>\n",
       "      <td>-1.655</td>\n",
       "      <td>0.010</td>\n",
       "      <td>53.321</td>\n",
       "      <td>-0.522</td>\n",
       "      <td>-3.100</td>\n",
       "      <td>31.082</td>\n",
       "      <td>0.060</td>\n",
       "      <td>86.062</td>\n",
       "      <td>0</td>\n",
       "      <td>-999.000</td>\n",
       "      <td>-999.000</td>\n",
       "      <td>-999.000</td>\n",
       "      <td>-999.000</td>\n",
       "      <td>-999.00</td>\n",
       "      <td>-999.000</td>\n",
       "      <td>-0.000</td>\n",
       "    </tr>\n",
       "    <tr>\n",
       "      <th>4</th>\n",
       "      <td>100004</td>\n",
       "      <td>175.864</td>\n",
       "      <td>16.915</td>\n",
       "      <td>134.805</td>\n",
       "      <td>16.405</td>\n",
       "      <td>-999.00</td>\n",
       "      <td>-999.000</td>\n",
       "      <td>-999.000</td>\n",
       "      <td>3.891</td>\n",
       "      <td>16.405</td>\n",
       "      <td>57.983</td>\n",
       "      <td>1.056</td>\n",
       "      <td>-1.385</td>\n",
       "      <td>-999.0</td>\n",
       "      <td>28.209</td>\n",
       "      <td>-2.197</td>\n",
       "      <td>-2.231</td>\n",
       "      <td>29.774</td>\n",
       "      <td>0.798</td>\n",
       "      <td>1.569</td>\n",
       "      <td>2.723</td>\n",
       "      <td>-0.871</td>\n",
       "      <td>53.131</td>\n",
       "      <td>0</td>\n",
       "      <td>-999.000</td>\n",
       "      <td>-999.000</td>\n",
       "      <td>-999.000</td>\n",
       "      <td>-999.000</td>\n",
       "      <td>-999.00</td>\n",
       "      <td>-999.000</td>\n",
       "      <td>0.000</td>\n",
       "    </tr>\n",
       "  </tbody>\n",
       "</table>\n",
       "</div>"
      ],
      "text/plain": [
       "   EventId  DER_mass_MMC  ...  PRI_jet_subleading_phi  PRI_jet_all_pt\n",
       "0   100000       138.470  ...                  -2.475         113.497\n",
       "1   100001       160.937  ...                -999.000          46.226\n",
       "2   100002      -999.000  ...                -999.000          44.251\n",
       "3   100003       143.905  ...                -999.000          -0.000\n",
       "4   100004       175.864  ...                -999.000           0.000\n",
       "\n",
       "[5 rows x 31 columns]"
      ]
     },
     "execution_count": 12,
     "metadata": {
      "tags": []
     },
     "output_type": "execute_result"
    }
   ],
   "source": [
    "higgsdata.head()"
   ]
  },
  {
   "cell_type": "code",
   "execution_count": 26,
   "metadata": {
    "colab": {
     "base_uri": "https://localhost:8080/",
     "height": 317
    },
    "colab_type": "code",
    "id": "okb2fQqpdVH9",
    "outputId": "6a7ccdfc-765c-427e-c4d4-4484e4710733"
   },
   "outputs": [
    {
     "data": {
      "text/html": [
       "<div>\n",
       "<style scoped>\n",
       "    .dataframe tbody tr th:only-of-type {\n",
       "        vertical-align: middle;\n",
       "    }\n",
       "\n",
       "    .dataframe tbody tr th {\n",
       "        vertical-align: top;\n",
       "    }\n",
       "\n",
       "    .dataframe thead th {\n",
       "        text-align: right;\n",
       "    }\n",
       "</style>\n",
       "<table border=\"1\" class=\"dataframe\">\n",
       "  <thead>\n",
       "    <tr style=\"text-align: right;\">\n",
       "      <th></th>\n",
       "      <th>EventId</th>\n",
       "      <th>DER_mass_MMC</th>\n",
       "      <th>DER_mass_transverse_met_lep</th>\n",
       "      <th>DER_mass_vis</th>\n",
       "      <th>DER_pt_h</th>\n",
       "      <th>DER_deltaeta_jet_jet</th>\n",
       "      <th>DER_mass_jet_jet</th>\n",
       "      <th>DER_prodeta_jet_jet</th>\n",
       "      <th>DER_deltar_tau_lep</th>\n",
       "      <th>DER_pt_tot</th>\n",
       "      <th>DER_sum_pt</th>\n",
       "      <th>DER_pt_ratio_lep_tau</th>\n",
       "      <th>DER_met_phi_centrality</th>\n",
       "      <th>DER_lep_eta_centrality</th>\n",
       "      <th>PRI_tau_pt</th>\n",
       "      <th>PRI_tau_eta</th>\n",
       "      <th>PRI_tau_phi</th>\n",
       "      <th>PRI_lep_pt</th>\n",
       "      <th>PRI_lep_eta</th>\n",
       "      <th>PRI_lep_phi</th>\n",
       "      <th>PRI_met</th>\n",
       "      <th>PRI_met_phi</th>\n",
       "      <th>PRI_met_sumet</th>\n",
       "      <th>PRI_jet_num</th>\n",
       "      <th>PRI_jet_leading_pt</th>\n",
       "      <th>PRI_jet_leading_eta</th>\n",
       "      <th>PRI_jet_leading_phi</th>\n",
       "      <th>PRI_jet_subleading_pt</th>\n",
       "      <th>PRI_jet_subleading_eta</th>\n",
       "      <th>PRI_jet_subleading_phi</th>\n",
       "      <th>PRI_jet_all_pt</th>\n",
       "    </tr>\n",
       "  </thead>\n",
       "  <tbody>\n",
       "    <tr>\n",
       "      <th>count</th>\n",
       "      <td>250000.000000</td>\n",
       "      <td>250000.000000</td>\n",
       "      <td>250000.000000</td>\n",
       "      <td>250000.000000</td>\n",
       "      <td>250000.000000</td>\n",
       "      <td>250000.000000</td>\n",
       "      <td>250000.000000</td>\n",
       "      <td>250000.000000</td>\n",
       "      <td>250000.000000</td>\n",
       "      <td>250000.000000</td>\n",
       "      <td>250000.000000</td>\n",
       "      <td>250000.000000</td>\n",
       "      <td>250000.000000</td>\n",
       "      <td>250000.000000</td>\n",
       "      <td>250000.000000</td>\n",
       "      <td>250000.000000</td>\n",
       "      <td>250000.000000</td>\n",
       "      <td>250000.000000</td>\n",
       "      <td>250000.000000</td>\n",
       "      <td>250000.000000</td>\n",
       "      <td>250000.000000</td>\n",
       "      <td>250000.000000</td>\n",
       "      <td>250000.000000</td>\n",
       "      <td>250000.000000</td>\n",
       "      <td>250000.000000</td>\n",
       "      <td>250000.000000</td>\n",
       "      <td>250000.000000</td>\n",
       "      <td>250000.000000</td>\n",
       "      <td>250000.000000</td>\n",
       "      <td>250000.000000</td>\n",
       "      <td>250000.000000</td>\n",
       "    </tr>\n",
       "    <tr>\n",
       "      <th>mean</th>\n",
       "      <td>224999.500000</td>\n",
       "      <td>-49.023079</td>\n",
       "      <td>49.239819</td>\n",
       "      <td>81.181982</td>\n",
       "      <td>57.895962</td>\n",
       "      <td>-708.420675</td>\n",
       "      <td>-601.237051</td>\n",
       "      <td>-709.356603</td>\n",
       "      <td>2.373100</td>\n",
       "      <td>18.917332</td>\n",
       "      <td>158.432217</td>\n",
       "      <td>1.437609</td>\n",
       "      <td>-0.128305</td>\n",
       "      <td>-708.985189</td>\n",
       "      <td>38.707419</td>\n",
       "      <td>-0.010973</td>\n",
       "      <td>-0.008171</td>\n",
       "      <td>46.660207</td>\n",
       "      <td>-0.019507</td>\n",
       "      <td>0.043543</td>\n",
       "      <td>41.717235</td>\n",
       "      <td>-0.010119</td>\n",
       "      <td>209.797178</td>\n",
       "      <td>0.979176</td>\n",
       "      <td>-348.329567</td>\n",
       "      <td>-399.254314</td>\n",
       "      <td>-399.259788</td>\n",
       "      <td>-692.381204</td>\n",
       "      <td>-709.121609</td>\n",
       "      <td>-709.118631</td>\n",
       "      <td>73.064591</td>\n",
       "    </tr>\n",
       "    <tr>\n",
       "      <th>std</th>\n",
       "      <td>72168.927986</td>\n",
       "      <td>406.345647</td>\n",
       "      <td>35.344886</td>\n",
       "      <td>40.828691</td>\n",
       "      <td>63.655682</td>\n",
       "      <td>454.480565</td>\n",
       "      <td>657.972302</td>\n",
       "      <td>453.019877</td>\n",
       "      <td>0.782911</td>\n",
       "      <td>22.273494</td>\n",
       "      <td>115.706115</td>\n",
       "      <td>0.844743</td>\n",
       "      <td>1.193585</td>\n",
       "      <td>453.596721</td>\n",
       "      <td>22.412081</td>\n",
       "      <td>1.214079</td>\n",
       "      <td>1.816763</td>\n",
       "      <td>22.064922</td>\n",
       "      <td>1.264982</td>\n",
       "      <td>1.816611</td>\n",
       "      <td>32.894693</td>\n",
       "      <td>1.812223</td>\n",
       "      <td>126.499506</td>\n",
       "      <td>0.977426</td>\n",
       "      <td>532.962789</td>\n",
       "      <td>489.338286</td>\n",
       "      <td>489.333883</td>\n",
       "      <td>479.875496</td>\n",
       "      <td>453.384624</td>\n",
       "      <td>453.389017</td>\n",
       "      <td>98.015662</td>\n",
       "    </tr>\n",
       "    <tr>\n",
       "      <th>min</th>\n",
       "      <td>100000.000000</td>\n",
       "      <td>-999.000000</td>\n",
       "      <td>0.000000</td>\n",
       "      <td>6.329000</td>\n",
       "      <td>0.000000</td>\n",
       "      <td>-999.000000</td>\n",
       "      <td>-999.000000</td>\n",
       "      <td>-999.000000</td>\n",
       "      <td>0.208000</td>\n",
       "      <td>0.000000</td>\n",
       "      <td>46.104000</td>\n",
       "      <td>0.047000</td>\n",
       "      <td>-1.414000</td>\n",
       "      <td>-999.000000</td>\n",
       "      <td>20.000000</td>\n",
       "      <td>-2.499000</td>\n",
       "      <td>-3.142000</td>\n",
       "      <td>26.000000</td>\n",
       "      <td>-2.505000</td>\n",
       "      <td>-3.142000</td>\n",
       "      <td>0.109000</td>\n",
       "      <td>-3.142000</td>\n",
       "      <td>13.678000</td>\n",
       "      <td>0.000000</td>\n",
       "      <td>-999.000000</td>\n",
       "      <td>-999.000000</td>\n",
       "      <td>-999.000000</td>\n",
       "      <td>-999.000000</td>\n",
       "      <td>-999.000000</td>\n",
       "      <td>-999.000000</td>\n",
       "      <td>0.000000</td>\n",
       "    </tr>\n",
       "    <tr>\n",
       "      <th>25%</th>\n",
       "      <td>162499.750000</td>\n",
       "      <td>78.100750</td>\n",
       "      <td>19.241000</td>\n",
       "      <td>59.388750</td>\n",
       "      <td>14.068750</td>\n",
       "      <td>-999.000000</td>\n",
       "      <td>-999.000000</td>\n",
       "      <td>-999.000000</td>\n",
       "      <td>1.810000</td>\n",
       "      <td>2.841000</td>\n",
       "      <td>77.550000</td>\n",
       "      <td>0.883000</td>\n",
       "      <td>-1.371000</td>\n",
       "      <td>-999.000000</td>\n",
       "      <td>24.591750</td>\n",
       "      <td>-0.925000</td>\n",
       "      <td>-1.575000</td>\n",
       "      <td>32.375000</td>\n",
       "      <td>-1.014000</td>\n",
       "      <td>-1.522000</td>\n",
       "      <td>21.398000</td>\n",
       "      <td>-1.575000</td>\n",
       "      <td>123.017500</td>\n",
       "      <td>0.000000</td>\n",
       "      <td>-999.000000</td>\n",
       "      <td>-999.000000</td>\n",
       "      <td>-999.000000</td>\n",
       "      <td>-999.000000</td>\n",
       "      <td>-999.000000</td>\n",
       "      <td>-999.000000</td>\n",
       "      <td>0.000000</td>\n",
       "    </tr>\n",
       "    <tr>\n",
       "      <th>50%</th>\n",
       "      <td>224999.500000</td>\n",
       "      <td>105.012000</td>\n",
       "      <td>46.524000</td>\n",
       "      <td>73.752000</td>\n",
       "      <td>38.467500</td>\n",
       "      <td>-999.000000</td>\n",
       "      <td>-999.000000</td>\n",
       "      <td>-999.000000</td>\n",
       "      <td>2.491500</td>\n",
       "      <td>12.315500</td>\n",
       "      <td>120.664500</td>\n",
       "      <td>1.280000</td>\n",
       "      <td>-0.356000</td>\n",
       "      <td>-999.000000</td>\n",
       "      <td>31.804000</td>\n",
       "      <td>-0.023000</td>\n",
       "      <td>-0.033000</td>\n",
       "      <td>40.516000</td>\n",
       "      <td>-0.045000</td>\n",
       "      <td>0.086000</td>\n",
       "      <td>34.802000</td>\n",
       "      <td>-0.024000</td>\n",
       "      <td>179.739000</td>\n",
       "      <td>1.000000</td>\n",
       "      <td>38.960000</td>\n",
       "      <td>-1.872000</td>\n",
       "      <td>-2.093000</td>\n",
       "      <td>-999.000000</td>\n",
       "      <td>-999.000000</td>\n",
       "      <td>-999.000000</td>\n",
       "      <td>40.512500</td>\n",
       "    </tr>\n",
       "    <tr>\n",
       "      <th>75%</th>\n",
       "      <td>287499.250000</td>\n",
       "      <td>130.606250</td>\n",
       "      <td>73.598000</td>\n",
       "      <td>92.259000</td>\n",
       "      <td>79.169000</td>\n",
       "      <td>0.490000</td>\n",
       "      <td>83.446000</td>\n",
       "      <td>-4.593000</td>\n",
       "      <td>2.961000</td>\n",
       "      <td>27.591000</td>\n",
       "      <td>200.478250</td>\n",
       "      <td>1.777000</td>\n",
       "      <td>1.225000</td>\n",
       "      <td>0.000000</td>\n",
       "      <td>45.017000</td>\n",
       "      <td>0.898000</td>\n",
       "      <td>1.565000</td>\n",
       "      <td>53.390000</td>\n",
       "      <td>0.959000</td>\n",
       "      <td>1.618000</td>\n",
       "      <td>51.895000</td>\n",
       "      <td>1.561000</td>\n",
       "      <td>263.379250</td>\n",
       "      <td>2.000000</td>\n",
       "      <td>75.349000</td>\n",
       "      <td>0.433000</td>\n",
       "      <td>0.503000</td>\n",
       "      <td>33.703000</td>\n",
       "      <td>-2.457000</td>\n",
       "      <td>-2.275000</td>\n",
       "      <td>109.933750</td>\n",
       "    </tr>\n",
       "    <tr>\n",
       "      <th>max</th>\n",
       "      <td>349999.000000</td>\n",
       "      <td>1192.026000</td>\n",
       "      <td>690.075000</td>\n",
       "      <td>1349.351000</td>\n",
       "      <td>2834.999000</td>\n",
       "      <td>8.503000</td>\n",
       "      <td>4974.979000</td>\n",
       "      <td>16.690000</td>\n",
       "      <td>5.684000</td>\n",
       "      <td>2834.999000</td>\n",
       "      <td>1852.462000</td>\n",
       "      <td>19.773000</td>\n",
       "      <td>1.414000</td>\n",
       "      <td>1.000000</td>\n",
       "      <td>764.408000</td>\n",
       "      <td>2.497000</td>\n",
       "      <td>3.142000</td>\n",
       "      <td>560.271000</td>\n",
       "      <td>2.503000</td>\n",
       "      <td>3.142000</td>\n",
       "      <td>2842.617000</td>\n",
       "      <td>3.142000</td>\n",
       "      <td>2003.976000</td>\n",
       "      <td>3.000000</td>\n",
       "      <td>1120.573000</td>\n",
       "      <td>4.499000</td>\n",
       "      <td>3.141000</td>\n",
       "      <td>721.456000</td>\n",
       "      <td>4.500000</td>\n",
       "      <td>3.142000</td>\n",
       "      <td>1633.433000</td>\n",
       "    </tr>\n",
       "  </tbody>\n",
       "</table>\n",
       "</div>"
      ],
      "text/plain": [
       "             EventId   DER_mass_MMC  ...  PRI_jet_subleading_phi  PRI_jet_all_pt\n",
       "count  250000.000000  250000.000000  ...           250000.000000   250000.000000\n",
       "mean   224999.500000     -49.023079  ...             -709.118631       73.064591\n",
       "std     72168.927986     406.345647  ...              453.389017       98.015662\n",
       "min    100000.000000    -999.000000  ...             -999.000000        0.000000\n",
       "25%    162499.750000      78.100750  ...             -999.000000        0.000000\n",
       "50%    224999.500000     105.012000  ...             -999.000000       40.512500\n",
       "75%    287499.250000     130.606250  ...               -2.275000      109.933750\n",
       "max    349999.000000    1192.026000  ...                3.142000     1633.433000\n",
       "\n",
       "[8 rows x 31 columns]"
      ]
     },
     "execution_count": 26,
     "metadata": {
      "tags": []
     },
     "output_type": "execute_result"
    }
   ],
   "source": [
    "higgsdata.describe()"
   ]
  },
  {
   "cell_type": "code",
   "execution_count": 0,
   "metadata": {
    "colab": {
     "base_uri": "https://localhost:8080/",
     "height": 34
    },
    "colab_type": "code",
    "id": "O8eUWMdVx983",
    "outputId": "d0e147ca-f931-4739-ef3d-04d357e51c07"
   },
   "outputs": [
    {
     "data": {
      "text/plain": [
       "array(['s', 'b', 'b', ..., 's', 'b', 'b'], dtype=object)"
      ]
     },
     "execution_count": 25,
     "metadata": {
      "tags": []
     },
     "output_type": "execute_result"
    }
   ],
   "source": [
    "labels"
   ]
  },
  {
   "cell_type": "code",
   "execution_count": 0,
   "metadata": {
    "colab": {
     "base_uri": "https://localhost:8080/",
     "height": 51
    },
    "colab_type": "code",
    "id": "Tv1otxd5yB-X",
    "outputId": "e7b7161c-2e8a-4836-80bc-94fa7ffac05d"
   },
   "outputs": [
    {
     "data": {
      "text/plain": [
       "array([0.00265331, 2.23358449, 2.34738894, ..., 0.01863612, 1.68161144,\n",
       "       1.87747381])"
      ]
     },
     "execution_count": 26,
     "metadata": {
      "tags": []
     },
     "output_type": "execute_result"
    }
   ],
   "source": [
    "weights"
   ]
  },
  {
   "cell_type": "code",
   "execution_count": 0,
   "metadata": {
    "colab": {},
    "colab_type": "code",
    "id": "7_pC_3biq_xU"
   },
   "outputs": [],
   "source": [
    "from sklearn.model_selection import train_test_split "
   ]
  },
  {
   "cell_type": "markdown",
   "metadata": {
    "colab_type": "text",
    "id": "sLK2qoS_oW_j"
   },
   "source": [
    "- Use a Random Forest and a Gradiend Boosted Tree Classifier model to predict the label of the particles. get the score of the model on the training and test set and comment on the result for each model.\n"
   ]
  },
  {
   "cell_type": "code",
   "execution_count": 8,
   "metadata": {
    "colab": {
     "base_uri": "https://localhost:8080/",
     "height": 88
    },
    "colab_type": "code",
    "id": "Htf_qENzNNcV",
    "outputId": "35ce990d-1b85-44e6-9d6e-1c278bc02335"
   },
   "outputs": [
    {
     "name": "stdout",
     "output_type": "stream",
     "text": [
      "Parameters currently in use:\n",
      "\n",
      "{'bootstrap': True, 'class_weight': None, 'criterion': 'gini', 'max_depth': None, 'max_features': 'auto', 'max_leaf_nodes': None, 'min_impurity_decrease': 0.0, 'min_impurity_split': None, 'min_samples_leaf': 1, 'min_samples_split': 2, 'min_weight_fraction_leaf': 0.0, 'n_estimators': 'warn', 'n_jobs': None, 'oob_score': False, 'random_state': 0, 'verbose': 0, 'warm_start': False}\n"
     ]
    }
   ],
   "source": [
    "#leave \n",
    "from sklearn.ensemble import RandomForestClassifier\n",
    "from sklearn.ensemble import GradientBoostingClassifier\n",
    "from sklearn.datasets import make_classification\n",
    "\n",
    "# Look at parameters used by our current forest\n",
    "rf = RandomForestClassifier(random_state = 0)\n",
    "print('Parameters currently in use:\\n')\n",
    "print(rf.get_params())"
   ]
  },
  {
   "cell_type": "code",
   "execution_count": 0,
   "metadata": {
    "colab": {},
    "colab_type": "code",
    "id": "1DqRGXkLXusl"
   },
   "outputs": [],
   "source": [
    "from sklearn.ensemble import RandomForestRegressor\n",
    "from sklearn.ensemble import GradientBoostingRegressor"
   ]
  },
  {
   "cell_type": "code",
   "execution_count": 0,
   "metadata": {
    "colab": {},
    "colab_type": "code",
    "id": "ZhxVu_G_S9lh"
   },
   "outputs": [],
   "source": [
    "gbt = GradientBoostingClassifier()"
   ]
  },
  {
   "cell_type": "markdown",
   "metadata": {
    "colab_type": "text",
    "id": "TwLDWbDkSZfp"
   },
   "source": [
    "## Splitting the test and train data from the data set"
   ]
  },
  {
   "cell_type": "code",
   "execution_count": 0,
   "metadata": {
    "colab": {},
    "colab_type": "code",
    "id": "kOXp5RMUR4ST"
   },
   "outputs": [],
   "source": [
    "train_HiggsData, test_HiggsData, train_HiggsData_labels, test_HiggsData_labels, train_HiggsData_weights, test_HiggsData_weights = train_test_split(higgsdata, labels, weights, test_size=0.33, random_state=222)"
   ]
  },
  {
   "cell_type": "markdown",
   "metadata": {
    "colab_type": "text",
    "id": "RguSAXfzTD39"
   },
   "source": [
    "## Using Random Forest and Gradiant boosting classifier to fit the data"
   ]
  },
  {
   "cell_type": "code",
   "execution_count": 11,
   "metadata": {
    "colab": {
     "base_uri": "https://localhost:8080/",
     "height": 241
    },
    "colab_type": "code",
    "id": "OVudcCaiS08_",
    "outputId": "59b777a8-c1bf-41cf-b2a1-6b0c790ceeaa"
   },
   "outputs": [
    {
     "name": "stderr",
     "output_type": "stream",
     "text": [
      "/usr/local/lib/python3.6/dist-packages/sklearn/ensemble/forest.py:245: FutureWarning: The default value of n_estimators will change from 10 in version 0.20 to 100 in 0.22.\n",
      "  \"10 in version 0.20 to 100 in 0.22.\", FutureWarning)\n"
     ]
    },
    {
     "data": {
      "text/plain": [
       "GradientBoostingClassifier(criterion='friedman_mse', init=None,\n",
       "                           learning_rate=0.1, loss='deviance', max_depth=3,\n",
       "                           max_features=None, max_leaf_nodes=None,\n",
       "                           min_impurity_decrease=0.0, min_impurity_split=None,\n",
       "                           min_samples_leaf=1, min_samples_split=2,\n",
       "                           min_weight_fraction_leaf=0.0, n_estimators=100,\n",
       "                           n_iter_no_change=None, presort='auto',\n",
       "                           random_state=None, subsample=1.0, tol=0.0001,\n",
       "                           validation_fraction=0.1, verbose=0,\n",
       "                           warm_start=False)"
      ]
     },
     "execution_count": 11,
     "metadata": {
      "tags": []
     },
     "output_type": "execute_result"
    }
   ],
   "source": [
    "rf.fit(X=train_HiggsData, y=train_HiggsData_labels)  ## fitting for labels\n",
    "gbt.fit(X=train_HiggsData, y=train_HiggsData_labels)"
   ]
  },
  {
   "cell_type": "code",
   "execution_count": 12,
   "metadata": {
    "colab": {
     "base_uri": "https://localhost:8080/",
     "height": 51
    },
    "colab_type": "code",
    "id": "1p42icKrUQRm",
    "outputId": "7590d04e-5d3f-4145-f0bc-9a94b49a0f57"
   },
   "outputs": [
    {
     "name": "stdout",
     "output_type": "stream",
     "text": [
      "RandomForest Test score for the train data is:  0.9884059701492537 \n",
      "and score for test data is:  0.8208484848484848\n"
     ]
    }
   ],
   "source": [
    "print(\"RandomForest Test score for the train data is: \", rf.score(train_HiggsData, train_HiggsData_labels), \"\\n\"\n",
    "  \"and score for test data is: \", rf.score(test_HiggsData, test_HiggsData_labels))"
   ]
  },
  {
   "cell_type": "code",
   "execution_count": 13,
   "metadata": {
    "colab": {
     "base_uri": "https://localhost:8080/",
     "height": 51
    },
    "colab_type": "code",
    "id": "iOcupoNrVRwA",
    "outputId": "718e81cd-8265-4bfe-c251-5ce77f3a4bf7"
   },
   "outputs": [
    {
     "name": "stdout",
     "output_type": "stream",
     "text": [
      "Gradiant boosting classifier Test score for the train data is:  0.834644776119403 \n",
      "and score for test data is:  0.8296363636363636\n"
     ]
    }
   ],
   "source": [
    "print(\"Gradiant boosting classifier Test score for the train data is: \", gbt.score(train_HiggsData, train_HiggsData_labels), \"\\n\"\n",
    "  \"and score for test data is: \", gbt.score(test_HiggsData, test_HiggsData_labels))"
   ]
  },
  {
   "cell_type": "markdown",
   "metadata": {
    "colab_type": "text",
    "id": "F7umKwQ0VAIW"
   },
   "source": [
    "# Results:\n",
    "## The scores for both the methods are not far apart from each other, which means we are not overfitting the data."
   ]
  },
  {
   "cell_type": "code",
   "execution_count": 0,
   "metadata": {
    "colab": {},
    "colab_type": "code",
    "id": "ak3gnF6duviH"
   },
   "outputs": [],
   "source": [
    "# I creaded this function (mostly copied from sklearn examples). \n",
    "# You can use it to create the confusion matrix\n",
    "from mpl_toolkits.axes_grid1.axes_divider import make_axes_locatable\n",
    "from sklearn.metrics import confusion_matrix\n",
    "def plot_confusion_matrix(y_true, y_pred,\n",
    "                          normalize=False,\n",
    "                          title='',\n",
    "                          cmap=pl.cm.bone):\n",
    "    \"\"\"\n",
    "    This function prints and plots the confusion matrix.\n",
    "    Normalization can be applied by setting `normalize=True`.\n",
    "    \"\"\"         \n",
    "    if normalize:\n",
    "          title = title + ' Normalized confusion matrix'\n",
    "    else:\n",
    "          title = title + ' Confusion matrix, without normalization'\n",
    "\n",
    "    # Compute confusion matrix\n",
    "    cm = confusion_matrix(y_true, y_pred)\n",
    "    # plot it\n",
    "    fig, ax = plt.subplots(1, 1)\n",
    "    fig.subplots_adjust()\n",
    "    im = ax.imshow(cm, cmap=cmap)\n",
    "    ax_divider = make_axes_locatable(ax)\n",
    "    # add an axes to the right of the main axes.\n",
    "    pl.xticks([0, 1], labels=[\"N\", \"P\"])\n",
    "    pl.ylim(-0.5,1.5)\n",
    "    pl.yticks([0,1], labels=[\"N\", \"P\"])    \n",
    "    pl.title(title)\n",
    "    cax = ax_divider.append_axes(\"right\", size=\"10%\", pad=\"2%\")\n",
    "    cb = colorbar(im, cax=cax)\n",
    "    "
   ]
  },
  {
   "cell_type": "code",
   "execution_count": 16,
   "metadata": {
    "colab": {
     "base_uri": "https://localhost:8080/",
     "height": 287
    },
    "colab_type": "code",
    "id": "utU-fshA23qJ",
    "outputId": "f7575e91-18a1-48d3-cd2b-46c7238cccd7"
   },
   "outputs": [
    {
     "data": {
      "image/png": "[encoded data removed]",
      "text/plain": [
       "<Figure size 432x288 with 2 Axes>"
      ]
     },
     "metadata": {
      "tags": []
     },
     "output_type": "display_data"
    }
   ],
   "source": [
    "# for Random Forest\n",
    "plot_confusion_matrix(test_HiggsData_labels, \n",
    "                      rf.predict(test_HiggsData),\n",
    "                      title=\"RF \");"
   ]
  },
  {
   "cell_type": "markdown",
   "metadata": {
    "colab_type": "text",
    "id": "TLcWbtNLXlPH"
   },
   "source": [
    "## Figure: Confusion matrix for RandomForest."
   ]
  },
  {
   "cell_type": "code",
   "execution_count": 0,
   "metadata": {
    "colab": {},
    "colab_type": "code",
    "id": "EEMjMHocXjiQ"
   },
   "outputs": [],
   "source": []
  },
  {
   "cell_type": "code",
   "execution_count": 17,
   "metadata": {
    "colab": {
     "base_uri": "https://localhost:8080/",
     "height": 287
    },
    "colab_type": "code",
    "id": "Trt_hibF3AZC",
    "outputId": "5e493902-81a6-4837-de88-7207750e5dc1"
   },
   "outputs": [
    {
     "data": {
      "image/png": "[encoded data removed]",
      "text/plain": [
       "<Figure size 432x288 with 2 Axes>"
      ]
     },
     "metadata": {
      "tags": []
     },
     "output_type": "display_data"
    }
   ],
   "source": [
    "# for GBT\n",
    "plot_confusion_matrix(test_HiggsData_labels,\n",
    "                      gbt.predict(test_HiggsData), \n",
    "    \n",
    "                      title=\"GBT \");"
   ]
  },
  {
   "cell_type": "markdown",
   "metadata": {
    "colab_type": "text",
    "id": "NZ_pHe9AX1Fg"
   },
   "source": [
    "## Figure: Confusion matrix for GradientBoostingClassifier."
   ]
  },
  {
   "cell_type": "markdown",
   "metadata": {
    "colab_type": "text",
    "id": "5r0c43XrX-47"
   },
   "source": [
    "## From the figures we can see that the Random Forest model has more true positive values and hense more score for the test.\n"
   ]
  },
  {
   "cell_type": "markdown",
   "metadata": {
    "colab_type": "text",
    "id": "TbZQ3kMSQFK6"
   },
   "source": [
    "\n",
    "- Use a Random Forest and a Gradiend Boosted Tree Regressor model to predict the weight of the particles. Compare the model performance on training and test setsm\n"
   ]
  },
  {
   "cell_type": "code",
   "execution_count": 19,
   "metadata": {
    "colab": {
     "base_uri": "https://localhost:8080/",
     "height": 136
    },
    "colab_type": "code",
    "id": "bixLPP19YBrc",
    "outputId": "9bdfc86b-8a28-4610-ff18-9d96d0511eed"
   },
   "outputs": [
    {
     "data": {
      "text/plain": [
       "RandomForestRegressor(bootstrap=True, criterion='mse', max_depth=3,\n",
       "                      max_features='auto', max_leaf_nodes=None,\n",
       "                      min_impurity_decrease=0.0, min_impurity_split=None,\n",
       "                      min_samples_leaf=1, min_samples_split=2,\n",
       "                      min_weight_fraction_leaf=0.0, n_estimators=100,\n",
       "                      n_jobs=None, oob_score=False, random_state=223, verbose=0,\n",
       "                      warm_start=False)"
      ]
     },
     "execution_count": 19,
     "metadata": {
      "tags": []
     },
     "output_type": "execute_result"
    }
   ],
   "source": [
    "rf_reg = RandomForestRegressor(n_estimators=100, max_depth=3, random_state=223)\n",
    "gbt_reg = GradientBoostingRegressor(n_estimators=100, max_depth=3, random_state=223)\n",
    "\n",
    "rf_reg.fit(X=train_HiggsData, y=train_HiggsData_weights) # for RFR"
   ]
  },
  {
   "cell_type": "code",
   "execution_count": 20,
   "metadata": {
    "colab": {
     "base_uri": "https://localhost:8080/",
     "height": 170
    },
    "colab_type": "code",
    "id": "jS71m_nIZqSd",
    "outputId": "cd8b9e3d-8b77-4504-82b9-ac2f75856739"
   },
   "outputs": [
    {
     "data": {
      "text/plain": [
       "GradientBoostingRegressor(alpha=0.9, criterion='friedman_mse', init=None,\n",
       "                          learning_rate=0.1, loss='ls', max_depth=3,\n",
       "                          max_features=None, max_leaf_nodes=None,\n",
       "                          min_impurity_decrease=0.0, min_impurity_split=None,\n",
       "                          min_samples_leaf=1, min_samples_split=2,\n",
       "                          min_weight_fraction_leaf=0.0, n_estimators=100,\n",
       "                          n_iter_no_change=None, presort='auto',\n",
       "                          random_state=223, subsample=1.0, tol=0.0001,\n",
       "                          validation_fraction=0.1, verbose=0, warm_start=False)"
      ]
     },
     "execution_count": 20,
     "metadata": {
      "tags": []
     },
     "output_type": "execute_result"
    }
   ],
   "source": [
    "gbt_reg = GradientBoostingRegressor(n_estimators=100, max_depth=3, random_state=223)\n",
    "gbt_reg.fit(X=train_HiggsData.values, y=train_HiggsData_weights)"
   ]
  },
  {
   "cell_type": "markdown",
   "metadata": {
    "colab_type": "text",
    "id": "CKvyqcFr3Z3d"
   },
   "source": [
    " Calculate the L2 and L1 loss functions for the fitted regression models (see slides for the definition) and discuss the results"
   ]
  },
  {
   "cell_type": "code",
   "execution_count": 0,
   "metadata": {
    "colab": {},
    "colab_type": "code",
    "id": "oZMDL0GiN1NE"
   },
   "outputs": [],
   "source": [
    "def L1(true_val, pred_val): ## to compute L1\n",
    "  result = np.sum(np.abs(true_val - pred_val))\n",
    "  return result\n",
    "\n",
    "def L2(true_val, pred_val): ## to compute L2\n",
    "  result = np.sum( (true_val - pred_val)**2 )\n",
    "  return result"
   ]
  },
  {
   "cell_type": "code",
   "execution_count": 33,
   "metadata": {
    "colab": {
     "base_uri": "https://localhost:8080/",
     "height": 102
    },
    "colab_type": "code",
    "id": "8FPO4ww2OyEr",
    "outputId": "01a2c1c2-a354-4155-a71f-fdda5f22edd3"
   },
   "outputs": [
    {
     "name": "stdout",
     "output_type": "stream",
     "text": [
      "L1 RF is give by :  83182.47968204832 \n",
      "L2 RF is give by :  151957.6782813781 \n",
      "\n",
      "L1 GBT is give by :  70079.7955051226 \n",
      "L2 GBT is give by :  113078.69821285598\n"
     ]
    }
   ],
   "source": [
    "true_val = test_HiggsData_weights ## True values\n",
    "\n",
    "pred_val_rf = rf_reg.predict(test_HiggsData) # predict from RF model\n",
    "\n",
    "pred_val_gbt = gbt_reg.predict(test_HiggsData) ## predict from GBT model\n",
    "\n",
    " \n",
    "print(\"L1 RF is give by : \", L1(true_val, pred_val_rf), \"\\n\"\n",
    "      \"L2 RF is give by : \", L2(true_val, pred_val_rf), \"\\n\")\n",
    "\n",
    "\n",
    "print(\"L1 GBT is give by : \", L1(true_val, pred_val_gbt), \"\\n\"\n",
    "      \"L2 GBT is give by : \", L2(true_val, pred_val_gbt))"
   ]
  },
  {
   "cell_type": "markdown",
   "metadata": {
    "colab_type": "text",
    "id": "o9Bm0vQ6R2SR"
   },
   "source": [
    "## GradientBoostingRegressor has lower values of L1 and L2 than RandomForestRegressor and is therefore better."
   ]
  },
  {
   "cell_type": "markdown",
   "metadata": {
    "colab_type": "text",
    "id": "c38At7ayYd_5"
   },
   "source": [
    "- For the Random Forest classifier, find the 4 most important features based on the simple unoptimized model you created earlier on. Use the documentation to find out what they are. We have not talked abotu the physics of this problem at all but the Kaggle challenge description should provide enogh information for you to comment on this result is somewhat superficially.\n",
    "\n",
    "You can use ```rf.feature_importance_``` on the trained model to extract the relative importance of each feature (a number from 0 to 1) and then choose the features that have the 4 highest numbers (the numpy function ```argsort()``` is helpful here!)\n",
    "\n",
    "Explore the parameter space with the sklearn module ```sklearn.model_selection.RandomizedSearchCV``` *fitting only those 4 features*\n",
    "\n",
    "Follow this example to set up the parameter search. Set the estimators to 10 and 100, (the number of trees) and the max depth to 3, and 10, and None (let it be unconstrained). Set bootstrap to both True and False. Set the number of features to consider at every split to both \"autp\" and \"sqrt\". Use ```pprint``` like I did earlier in this notebook to print the parameters set\n",
    "\n",
    "**this takes some computational time! so do not start this at the last minute!!**\n",
    "\n",
    " \n",
    "\n"
   ]
  },
  {
   "cell_type": "code",
   "execution_count": 0,
   "metadata": {
    "colab": {},
    "colab_type": "code",
    "id": "JEfiwqxjSMi2"
   },
   "outputs": [],
   "source": [
    "from sklearn.model_selection import RandomizedSearchCV\n",
    "\n",
    "## To find the top most important features\n",
    "\n",
    "important_features = train_HiggsData.columns[ np.argsort(rf.feature_importances_)[::-1] ] [:4]"
   ]
  },
  {
   "cell_type": "code",
   "execution_count": 40,
   "metadata": {
    "colab": {
     "base_uri": "https://localhost:8080/",
     "height": 204
    },
    "colab_type": "code",
    "id": "p-XCSy5UTQ8d",
    "outputId": "80756fba-d9ed-4d8e-8447-044a11441281"
   },
   "outputs": [
    {
     "data": {
      "text/html": [
       "<div>\n",
       "<style scoped>\n",
       "    .dataframe tbody tr th:only-of-type {\n",
       "        vertical-align: middle;\n",
       "    }\n",
       "\n",
       "    .dataframe tbody tr th {\n",
       "        vertical-align: top;\n",
       "    }\n",
       "\n",
       "    .dataframe thead th {\n",
       "        text-align: right;\n",
       "    }\n",
       "</style>\n",
       "<table border=\"1\" class=\"dataframe\">\n",
       "  <thead>\n",
       "    <tr style=\"text-align: right;\">\n",
       "      <th></th>\n",
       "      <th>DER_mass_MMC</th>\n",
       "      <th>DER_mass_transverse_met_lep</th>\n",
       "      <th>DER_mass_vis</th>\n",
       "      <th>PRI_tau_pt</th>\n",
       "    </tr>\n",
       "  </thead>\n",
       "  <tbody>\n",
       "    <tr>\n",
       "      <th>0</th>\n",
       "      <td>138.470</td>\n",
       "      <td>51.655</td>\n",
       "      <td>97.827</td>\n",
       "      <td>32.638</td>\n",
       "    </tr>\n",
       "    <tr>\n",
       "      <th>1</th>\n",
       "      <td>160.937</td>\n",
       "      <td>68.768</td>\n",
       "      <td>103.235</td>\n",
       "      <td>42.014</td>\n",
       "    </tr>\n",
       "    <tr>\n",
       "      <th>2</th>\n",
       "      <td>-999.000</td>\n",
       "      <td>162.172</td>\n",
       "      <td>125.953</td>\n",
       "      <td>32.154</td>\n",
       "    </tr>\n",
       "    <tr>\n",
       "      <th>3</th>\n",
       "      <td>143.905</td>\n",
       "      <td>81.417</td>\n",
       "      <td>80.943</td>\n",
       "      <td>22.647</td>\n",
       "    </tr>\n",
       "    <tr>\n",
       "      <th>4</th>\n",
       "      <td>175.864</td>\n",
       "      <td>16.915</td>\n",
       "      <td>134.805</td>\n",
       "      <td>28.209</td>\n",
       "    </tr>\n",
       "  </tbody>\n",
       "</table>\n",
       "</div>"
      ],
      "text/plain": [
       "   DER_mass_MMC  DER_mass_transverse_met_lep  DER_mass_vis  PRI_tau_pt\n",
       "0       138.470                       51.655        97.827      32.638\n",
       "1       160.937                       68.768       103.235      42.014\n",
       "2      -999.000                      162.172       125.953      32.154\n",
       "3       143.905                       81.417        80.943      22.647\n",
       "4       175.864                       16.915       134.805      28.209"
      ]
     },
     "execution_count": 40,
     "metadata": {
      "tags": []
     },
     "output_type": "execute_result"
    }
   ],
   "source": [
    "higgsdata[important_features].head()"
   ]
  },
  {
   "cell_type": "code",
   "execution_count": 0,
   "metadata": {
    "colab": {},
    "colab_type": "code",
    "id": "O4RVrkXITzFS"
   },
   "outputs": [],
   "source": [
    "random_grid = {'max_depth': [3, 10, None], \n",
    "               'max_features': ['auto', 'sqrt'],\n",
    "               'bootstrap': [True, False],\n",
    "               'n_estimators': [10, 100, 1000] }"
   ]
  },
  {
   "cell_type": "code",
   "execution_count": 42,
   "metadata": {
    "colab": {
     "base_uri": "https://localhost:8080/",
     "height": 34
    },
    "colab_type": "code",
    "id": "mpmv4gwVT3w4",
    "outputId": "19febb87-d00f-46d0-a955-9978cdfd0a8c"
   },
   "outputs": [
    {
     "name": "stdout",
     "output_type": "stream",
     "text": [
      "Pretty printing has been turned ON\n"
     ]
    }
   ],
   "source": [
    "pprint(random_grid)"
   ]
  },
  {
   "cell_type": "markdown",
   "metadata": {
    "colab_type": "text",
    "id": "SfdKk4Pk7tTz"
   },
   "source": [
    " mine and your best features do not necessarily have to be the same because our models may be different (different parameters, different random seed etc)"
   ]
  },
  {
   "cell_type": "code",
   "execution_count": 0,
   "metadata": {
    "colab": {},
    "colab_type": "code",
    "id": "1AJ70oqZPvL_"
   },
   "outputs": [],
   "source": [
    "# Use the random grid to search for best hyperparameters\n",
    "# First create the base model to tune\n",
    "# Random search of parameters, using 3 fold cross validation, \n",
    "# search across 18 different combinations\n",
    "random_search = RandomizedSearchCV(estimator = rf, param_distributions=random_grid,\n",
    "                                   n_iter=1, cv=3, iid=False)\n"
   ]
  },
  {
   "cell_type": "code",
   "execution_count": 44,
   "metadata": {
    "colab": {
     "base_uri": "https://localhost:8080/",
     "height": 425
    },
    "colab_type": "code",
    "id": "Wu3PxkcBUJ3m",
    "outputId": "55c45fa7-79f5-4325-bcf9-3fd0dac4308a"
   },
   "outputs": [
    {
     "data": {
      "text/plain": [
       "RandomizedSearchCV(cv=3, error_score='raise-deprecating',\n",
       "                   estimator=RandomForestClassifier(bootstrap=True,\n",
       "                                                    class_weight=None,\n",
       "                                                    criterion='gini',\n",
       "                                                    max_depth=None,\n",
       "                                                    max_features='auto',\n",
       "                                                    max_leaf_nodes=None,\n",
       "                                                    min_impurity_decrease=0.0,\n",
       "                                                    min_impurity_split=None,\n",
       "                                                    min_samples_leaf=1,\n",
       "                                                    min_samples_split=2,\n",
       "                                                    min_weight_fraction_leaf=0.0,\n",
       "                                                    n_estimators=10,\n",
       "                                                    n_jobs=None,\n",
       "                                                    oob_score=False,\n",
       "                                                    random_state=0, verbose=0,\n",
       "                                                    warm_start=False),\n",
       "                   iid=False, n_iter=1, n_jobs=None,\n",
       "                   param_distributions={'bootstrap': [True, False],\n",
       "                                        'max_depth': [3, 10, None],\n",
       "                                        'max_features': ['auto', 'sqrt'],\n",
       "                                        'n_estimators': [10, 100, 1000]},\n",
       "                   pre_dispatch='2*n_jobs', random_state=None, refit=True,\n",
       "                   return_train_score=False, scoring=None, verbose=0)"
      ]
     },
     "execution_count": 44,
     "metadata": {
      "tags": []
     },
     "output_type": "execute_result"
    }
   ],
   "source": [
    "trainData = train_HiggsData[best_features_index]\n",
    "trainLabel = train_HiggsData_labels\n",
    "\n",
    "random_search.fit(X=trainData, y=trainLabel)"
   ]
  },
  {
   "cell_type": "markdown",
   "metadata": {
    "colab_type": "text",
    "id": "T3W60KM1Jb5r"
   },
   "source": [
    "Note that this may take a long time! It took 1 hour for me to run this. Dont start at the last minute!!"
   ]
  },
  {
   "cell_type": "code",
   "execution_count": 45,
   "metadata": {
    "colab": {
     "base_uri": "https://localhost:8080/",
     "height": 51
    },
    "colab_type": "code",
    "id": "rrFdPknSU6k0",
    "outputId": "e182db42-f240-45b6-b8ab-add167d7811a"
   },
   "outputs": [
    {
     "name": "stdout",
     "output_type": "stream",
     "text": [
      "Tuned RF  Parameters: {'n_estimators': 100, 'max_features': 'sqrt', 'max_depth': 3, 'bootstrap': True}\n",
      "Best score is 0.7949611936944523\n"
     ]
    }
   ],
   "source": [
    "\n",
    "print(\"Tuned RF  Parameters: {}\".format(random_search.best_params_))\n",
    "print(\"Best score is {}\".format(random_search.best_score_))"
   ]
  },
  {
   "cell_type": "code",
   "execution_count": 46,
   "metadata": {
    "colab": {
     "base_uri": "https://localhost:8080/",
     "height": 151
    },
    "colab_type": "code",
    "id": "WaHvlFa27EV4",
    "outputId": "901a85bb-514f-4d9d-afdf-738351bba566"
   },
   "outputs": [
    {
     "data": {
      "text/html": [
       "<div>\n",
       "<style scoped>\n",
       "    .dataframe tbody tr th:only-of-type {\n",
       "        vertical-align: middle;\n",
       "    }\n",
       "\n",
       "    .dataframe tbody tr th {\n",
       "        vertical-align: top;\n",
       "    }\n",
       "\n",
       "    .dataframe thead th {\n",
       "        text-align: right;\n",
       "    }\n",
       "</style>\n",
       "<table border=\"1\" class=\"dataframe\">\n",
       "  <thead>\n",
       "    <tr style=\"text-align: right;\">\n",
       "      <th></th>\n",
       "      <th>mean_fit_time</th>\n",
       "      <th>std_fit_time</th>\n",
       "      <th>mean_score_time</th>\n",
       "      <th>std_score_time</th>\n",
       "      <th>param_n_estimators</th>\n",
       "      <th>param_max_features</th>\n",
       "      <th>param_max_depth</th>\n",
       "      <th>param_bootstrap</th>\n",
       "      <th>params</th>\n",
       "      <th>split0_test_score</th>\n",
       "      <th>split1_test_score</th>\n",
       "      <th>split2_test_score</th>\n",
       "      <th>mean_test_score</th>\n",
       "      <th>std_test_score</th>\n",
       "      <th>rank_test_score</th>\n",
       "    </tr>\n",
       "  </thead>\n",
       "  <tbody>\n",
       "    <tr>\n",
       "      <th>0</th>\n",
       "      <td>7.942069</td>\n",
       "      <td>0.053316</td>\n",
       "      <td>0.425292</td>\n",
       "      <td>0.003169</td>\n",
       "      <td>100</td>\n",
       "      <td>sqrt</td>\n",
       "      <td>3</td>\n",
       "      <td>True</td>\n",
       "      <td>{'n_estimators': 100, 'max_features': 'sqrt', ...</td>\n",
       "      <td>0.795017</td>\n",
       "      <td>0.7941</td>\n",
       "      <td>0.795766</td>\n",
       "      <td>0.794961</td>\n",
       "      <td>0.000681</td>\n",
       "      <td>1</td>\n",
       "    </tr>\n",
       "  </tbody>\n",
       "</table>\n",
       "</div>"
      ],
      "text/plain": [
       "   mean_fit_time  std_fit_time  ...  std_test_score  rank_test_score\n",
       "0       7.942069      0.053316  ...        0.000681                1\n",
       "\n",
       "[1 rows x 15 columns]"
      ]
     },
     "execution_count": 46,
     "metadata": {
      "tags": []
     },
     "output_type": "execute_result"
    }
   ],
   "source": [
    "df = pd.DataFrame(random_search.cv_results_)\n",
    "df"
   ]
  },
  {
   "cell_type": "markdown",
   "metadata": {
    "colab_type": "text",
    "id": "e1r9zN9yI-at"
   },
   "source": [
    "# Plot a simple 3-point ROC curve for the model with the best parameters found in the previous step. Describe it. "
   ]
  },
  {
   "cell_type": "code",
   "execution_count": 47,
   "metadata": {
    "colab": {
     "base_uri": "https://localhost:8080/",
     "height": 136
    },
    "colab_type": "code",
    "id": "VZv90ZGcViuX",
    "outputId": "0404c8d1-3f54-4274-bef7-335657f4a32d"
   },
   "outputs": [
    {
     "data": {
      "text/plain": [
       "RandomForestClassifier(bootstrap=True, class_weight=None, criterion='gini',\n",
       "                       max_depth=3, max_features='sqrt', max_leaf_nodes=None,\n",
       "                       min_impurity_decrease=0.0, min_impurity_split=None,\n",
       "                       min_samples_leaf=1, min_samples_split=2,\n",
       "                       min_weight_fraction_leaf=0.0, n_estimators=100,\n",
       "                       n_jobs=None, oob_score=False, random_state=None,\n",
       "                       verbose=0, warm_start=False)"
      ]
     },
     "execution_count": 47,
     "metadata": {
      "tags": []
     },
     "output_type": "execute_result"
    }
   ],
   "source": [
    "rf = RandomForestClassifier(**random_search.best_params_)\n",
    "rf.fit(train_HiggsData, train_HiggsData_labels=='s')"
   ]
  },
  {
   "cell_type": "code",
   "execution_count": 48,
   "metadata": {
    "colab": {
     "base_uri": "https://localhost:8080/",
     "height": 306
    },
    "colab_type": "code",
    "id": "kLhfgh0TWXml",
    "outputId": "b79ee74a-d47d-405c-e431-1ff20f57af03"
   },
   "outputs": [
    {
     "data": {
      "image/png": "[encoded data removed]",
      "text/plain": [
       "<Figure size 432x288 with 1 Axes>"
      ]
     },
     "metadata": {
      "tags": []
     },
     "output_type": "display_data"
    }
   ],
   "source": [
    "# The random forest model by itself\n",
    "from sklearn.metrics import roc_curve\n",
    "\n",
    "fpr_rf, tpr_rf, _ = roc_curve(train_HiggsData_labels=='s', rf.predict(train_HiggsData))\n",
    "plt.plot(fpr_rf, tpr_rf, label='RF')\n",
    "\n",
    "plt.figure(1)\n",
    "plt.plot([0, 1], [0, 1], 'k--')\n",
    "\n",
    "plt.xlabel('False positive rate')\n",
    "plt.ylabel('True positive rate')\n",
    "plt.title('ROC curve')\n",
    "plt.legend(loc='best')\n",
    "plt.show()"
   ]
  },
  {
   "cell_type": "markdown",
   "metadata": {},
   "source": [
    "<span style=\"color:red\">**-5 pts: no caption no score**</span>"
   ]
  },
  {
   "cell_type": "markdown",
   "metadata": {
    "colab_type": "text",
    "id": "pL4tHIOHYldp"
   },
   "source": [
    "## From the plot above we see that RandomForestClassifier is better than a random classifier."
   ]
  },
  {
   "cell_type": "markdown",
   "metadata": {
    "colab_type": "text",
    "id": "1HHwF-qNdW4C"
   },
   "source": [
    "#### AMS metric from the kaggle challenge"
   ]
  },
  {
   "cell_type": "code",
   "execution_count": 0,
   "metadata": {
    "colab": {},
    "colab_type": "code",
    "id": "R7uJo59TZyw-"
   },
   "outputs": [],
   "source": [
    "import os\n",
    "import csv\n",
    "import math\n",
    "\n",
    "def create_solution_dictionary(solution):\n",
    "    \"\"\" Read solution file, return a dictionary with key EventId and value (weight,label).\n",
    "    Solution file headers: EventId, Label, Weight \"\"\"\n",
    "    \n",
    "    solnDict = {}\n",
    "    with open(solution, 'rt') as f:\n",
    "        soln = csv.reader(f)\n",
    "        #soln.next() # header\n",
    "        next(soln)\n",
    "        for row in soln:\n",
    "            if row[0] not in solnDict:\n",
    "                solnDict[row[0]] = (row[1], row[2])\n",
    "    return solnDict\n",
    "\n",
    "        \n",
    "def check_submission(submission, Nelements):\n",
    "    \"\"\" Check that submission RankOrder column is correct:\n",
    "        1. All numbers are in [1,NTestSet]\n",
    "        2. All numbers are unqiue\n",
    "    \"\"\"\n",
    "    rankOrderSet = set()    \n",
    "    with open(submission, 'rt') as f:\n",
    "        sub = csv.reader(f)\n",
    "        #sub.next() # header\n",
    "        next(sub)\n",
    "        for row in sub:\n",
    "            rankOrderSet.add(row[1])\n",
    "            \n",
    "    if len(rankOrderSet) != Nelements:\n",
    "        print('RankOrder column must contain unique values')\n",
    "        exit()\n",
    "    #elif rankOrderSet.isdisjoint(set(xrange(1,Nelements+1))) == False:\n",
    "    #    print('RankOrder column must contain all numbers from [1..NTestSset]')\n",
    "    #    exit()\n",
    "    else:\n",
    "        return True\n",
    "\n",
    "    \n",
    "def AMS(s, b):\n",
    "    \"\"\" Approximate Median Significance defined as:\n",
    "        AMS = sqrt(\n",
    "                2 { (s + b + b_r) log[1 + (s/(b+b_r))] - s}\n",
    "              )        \n",
    "    where b_r = 10, b = background, s = signal, log is natural logarithm \"\"\"\n",
    "    \n",
    "    br = 10.0\n",
    "    radicand = 2 *( (s+b+br) * math.log (1.0 + s/(b+br)) -s)\n",
    "    if radicand < 0:\n",
    "        print('radicand is negative. Exiting')\n",
    "        exit()\n",
    "    else:\n",
    "        return math.sqrt(radicand)\n",
    "\n",
    "\n",
    "def AMS_metric(solution, submission, numEvents):\n",
    "    \"\"\"  Prints the AMS metric value to screen.\n",
    "    Solution File header: EventId, Class, Weight\n",
    "    Submission File header: EventId, RankOrder, Class\n",
    "    \"\"\"\n",
    "    \n",
    "    #numEvents = 550000 # number of events = size of test set\n",
    "    numEvents = numEvents\n",
    "    # solutionDict: key=eventId, value=(label, class)\n",
    "    solutionDict = create_solution_dictionary(solution)\n",
    "\n",
    "    signal = 0.0\n",
    "    background = 0.0\n",
    "    if check_submission(submission, numEvents):\n",
    "        with open(submission, 'rt') as f:\n",
    "            sub = csv.reader(f)\n",
    "            #sub.next() # header row\n",
    "            next(sub)\n",
    "            for row in sub:\n",
    "                if row[2] == 's': # only events predicted to be signal are scored\n",
    "                    if solutionDict[row[0]][0] == 's':\n",
    "                        signal += float(solutionDict[row[0]][1])\n",
    "                    elif solutionDict[row[0]][0] == 'b':\n",
    "                        background += float(solutionDict[row[0]][1])\n",
    "     \n",
    "        print( 'signal = {0}, background = {1}'.format(signal, background) )\n",
    "        print( 'AMS = ' + str(AMS(signal, background)) )"
   ]
  },
  {
   "cell_type": "markdown",
   "metadata": {
    "colab_type": "text",
    "id": "YrHuJnRDct8v"
   },
   "source": [
    "### We have seen above that RandomForest Classifier is the best model, so we will use this model to fit the data and use it in the Kagel challenge."
   ]
  },
  {
   "cell_type": "markdown",
   "metadata": {
    "colab_type": "text",
    "id": "PXSx_JM1c1OR"
   },
   "source": [
    "#### We will use the best parameters we have found from the best fit of the Random Forest Classifier"
   ]
  },
  {
   "cell_type": "code",
   "execution_count": 60,
   "metadata": {
    "colab": {
     "base_uri": "https://localhost:8080/",
     "height": 136
    },
    "colab_type": "code",
    "id": "bFu0V2RKcoyn",
    "outputId": "bc9957eb-b4c2-4fed-fa2a-75c5416bf7a0"
   },
   "outputs": [
    {
     "data": {
      "text/plain": [
       "RandomForestClassifier(bootstrap=True, class_weight=None, criterion='gini',\n",
       "                       max_depth=3, max_features='sqrt', max_leaf_nodes=None,\n",
       "                       min_impurity_decrease=0.0, min_impurity_split=None,\n",
       "                       min_samples_leaf=1, min_samples_split=2,\n",
       "                       min_weight_fraction_leaf=0.0, n_estimators=100,\n",
       "                       n_jobs=None, oob_score=False, random_state=None,\n",
       "                       verbose=0, warm_start=False)"
      ]
     },
     "execution_count": 60,
     "metadata": {
      "tags": []
     },
     "output_type": "execute_result"
    }
   ],
   "source": [
    "### RandomForestClassifier model which is our best model from the above exercise.\n",
    "rf = RandomForestClassifier(**random_search.best_params_)\n",
    "rf.fit(train_HiggsData, train_HiggsData_labels)"
   ]
  },
  {
   "cell_type": "markdown",
   "metadata": {
    "colab_type": "text",
    "id": "VRQtFScOcaZZ"
   },
   "source": [
    "## Creating the submission file and solution from the test data which we will need to use in the function provided by kegal"
   ]
  },
  {
   "cell_type": "code",
   "execution_count": 61,
   "metadata": {
    "colab": {
     "base_uri": "https://localhost:8080/",
     "height": 204
    },
    "colab_type": "code",
    "id": "XNyWwHIccMXD",
    "outputId": "6f28b435-cc4c-46da-df0d-f6b80141e2c6"
   },
   "outputs": [
    {
     "data": {
      "text/html": [
       "<div>\n",
       "<style scoped>\n",
       "    .dataframe tbody tr th:only-of-type {\n",
       "        vertical-align: middle;\n",
       "    }\n",
       "\n",
       "    .dataframe tbody tr th {\n",
       "        vertical-align: top;\n",
       "    }\n",
       "\n",
       "    .dataframe thead th {\n",
       "        text-align: right;\n",
       "    }\n",
       "</style>\n",
       "<table border=\"1\" class=\"dataframe\">\n",
       "  <thead>\n",
       "    <tr style=\"text-align: right;\">\n",
       "      <th></th>\n",
       "      <th>EventId</th>\n",
       "      <th>RankOrder</th>\n",
       "      <th>Class</th>\n",
       "    </tr>\n",
       "  </thead>\n",
       "  <tbody>\n",
       "    <tr>\n",
       "      <th>215911</th>\n",
       "      <td>315911</td>\n",
       "      <td>0</td>\n",
       "      <td>b</td>\n",
       "    </tr>\n",
       "    <tr>\n",
       "      <th>102355</th>\n",
       "      <td>202355</td>\n",
       "      <td>39133</td>\n",
       "      <td>b</td>\n",
       "    </tr>\n",
       "    <tr>\n",
       "      <th>165299</th>\n",
       "      <td>265299</td>\n",
       "      <td>39131</td>\n",
       "      <td>b</td>\n",
       "    </tr>\n",
       "    <tr>\n",
       "      <th>192249</th>\n",
       "      <td>292249</td>\n",
       "      <td>39130</td>\n",
       "      <td>s</td>\n",
       "    </tr>\n",
       "    <tr>\n",
       "      <th>31205</th>\n",
       "      <td>131205</td>\n",
       "      <td>39123</td>\n",
       "      <td>b</td>\n",
       "    </tr>\n",
       "  </tbody>\n",
       "</table>\n",
       "</div>"
      ],
      "text/plain": [
       "        EventId  RankOrder Class\n",
       "215911   315911          0     b\n",
       "102355   202355      39133     b\n",
       "165299   265299      39131     b\n",
       "192249   292249      39130     s\n",
       "31205    131205      39123     b"
      ]
     },
     "execution_count": 61,
     "metadata": {
      "tags": []
     },
     "output_type": "execute_result"
    }
   ],
   "source": [
    "submission = pd.DataFrame()\n",
    "submission['EventId'] = test_HiggsData['EventId']\n",
    "submission['RankOrder'] = np.argsort( rf_reg.predict(test_HiggsData))\n",
    "submission['Class'] = rf.predict(test_HiggsData)\n",
    "submission.to_csv('submission.csv', index=False)\n",
    "submission.head()"
   ]
  },
  {
   "cell_type": "code",
   "execution_count": 62,
   "metadata": {
    "colab": {
     "base_uri": "https://localhost:8080/",
     "height": 204
    },
    "colab_type": "code",
    "id": "PmmI4dtHcPsn",
    "outputId": "fdb6db9b-7393-4514-df7b-1d80f795e082"
   },
   "outputs": [
    {
     "data": {
      "text/html": [
       "<div>\n",
       "<style scoped>\n",
       "    .dataframe tbody tr th:only-of-type {\n",
       "        vertical-align: middle;\n",
       "    }\n",
       "\n",
       "    .dataframe tbody tr th {\n",
       "        vertical-align: top;\n",
       "    }\n",
       "\n",
       "    .dataframe thead th {\n",
       "        text-align: right;\n",
       "    }\n",
       "</style>\n",
       "<table border=\"1\" class=\"dataframe\">\n",
       "  <thead>\n",
       "    <tr style=\"text-align: right;\">\n",
       "      <th></th>\n",
       "      <th>EventId</th>\n",
       "      <th>Class</th>\n",
       "      <th>Weight</th>\n",
       "    </tr>\n",
       "  </thead>\n",
       "  <tbody>\n",
       "    <tr>\n",
       "      <th>215911</th>\n",
       "      <td>315911</td>\n",
       "      <td>b</td>\n",
       "      <td>0.083414</td>\n",
       "    </tr>\n",
       "    <tr>\n",
       "      <th>102355</th>\n",
       "      <td>202355</td>\n",
       "      <td>s</td>\n",
       "      <td>0.018636</td>\n",
       "    </tr>\n",
       "    <tr>\n",
       "      <th>165299</th>\n",
       "      <td>265299</td>\n",
       "      <td>b</td>\n",
       "      <td>1.681611</td>\n",
       "    </tr>\n",
       "    <tr>\n",
       "      <th>192249</th>\n",
       "      <td>292249</td>\n",
       "      <td>s</td>\n",
       "      <td>0.001503</td>\n",
       "    </tr>\n",
       "    <tr>\n",
       "      <th>31205</th>\n",
       "      <td>131205</td>\n",
       "      <td>b</td>\n",
       "      <td>4.883866</td>\n",
       "    </tr>\n",
       "  </tbody>\n",
       "</table>\n",
       "</div>"
      ],
      "text/plain": [
       "        EventId Class    Weight\n",
       "215911   315911     b  0.083414\n",
       "102355   202355     s  0.018636\n",
       "165299   265299     b  1.681611\n",
       "192249   292249     s  0.001503\n",
       "31205    131205     b  4.883866"
      ]
     },
     "execution_count": 62,
     "metadata": {
      "tags": []
     },
     "output_type": "execute_result"
    }
   ],
   "source": [
    "# create a solution from testdata\n",
    "solution = pd.DataFrame()\n",
    "solution['EventId'] = test_HiggsData['EventId']\n",
    "solution['Class'] = test_HiggsData_labels\n",
    "solution['Weight'] = test_HiggsData_weights\n",
    "solution.to_csv('solution.csv', index=False)\n",
    "solution.head()"
   ]
  },
  {
   "cell_type": "markdown",
   "metadata": {
    "colab_type": "text",
    "id": "ao323n_Ub2Oe"
   },
   "source": [
    "## Reporting the results:"
   ]
  },
  {
   "cell_type": "code",
   "execution_count": 63,
   "metadata": {
    "colab": {
     "base_uri": "https://localhost:8080/",
     "height": 51
    },
    "colab_type": "code",
    "id": "6RL3cck2bSxA",
    "outputId": "f24a24e9-b361-4100-bb1e-4b91d98d0282"
   },
   "outputs": [
    {
     "name": "stdout",
     "output_type": "stream",
     "text": [
      "signal = 104.08373525162013, background = 4342.445962625123\n",
      "AMS = 1.5714438401487916\n"
     ]
    }
   ],
   "source": [
    "numEvents = len(test_HiggsData_weights)\n",
    "solutionFile = \"solution.csv\"\n",
    "submissionFile = \"submission.csv\"\n",
    "\n",
    "AMS_metric(solutionFile, submissionFile, numEvents)"
   ]
  },
  {
   "cell_type": "markdown",
   "metadata": {
    "colab_type": "text",
    "id": "o9-DhStXeJFB"
   },
   "source": [
    "### Our AMS score seems pretty good. I had to run it various times since every time I disconnect I had to reconnect and run the whole notebook again, so the score changed everytime but still the average time was close to 1.5."
   ]
  },
  {
   "cell_type": "code",
   "execution_count": 0,
   "metadata": {
    "colab": {},
    "colab_type": "code",
    "id": "SOZDWLmQekwg"
   },
   "outputs": [],
   "source": []
  }
 ],
 "metadata": {
  "colab": {
   "collapsed_sections": [],
   "name": "higgsbosonSearch.ipynb",
   "provenance": []
  },
  "kernelspec": {
   "display_name": "Python 3",
   "language": "python",
   "name": "python3"
  },
  "language_info": {
   "codemirror_mode": {
    "name": "ipython",
    "version": 3
   },
   "file_extension": ".py",
   "mimetype": "text/x-python",
   "name": "python",
   "nbconvert_exporter": "python",
   "pygments_lexer": "ipython3",
   "version": "3.6.8"
  }
 },
 "nbformat": 4,
 "nbformat_minor": 1
}
