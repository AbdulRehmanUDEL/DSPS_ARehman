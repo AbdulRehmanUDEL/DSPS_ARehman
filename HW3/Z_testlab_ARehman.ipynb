{
 "cells": [
  {
   "cell_type": "code",
   "execution_count": 2,
   "metadata": {},
   "outputs": [],
   "source": [
    "import pandas as pd\n",
    "import numpy as np"
   ]
  },
  {
   "cell_type": "markdown",
   "metadata": {},
   "source": [
    "## Z_Test lab "
   ]
  },
  {
   "cell_type": "markdown",
   "metadata": {},
   "source": [
    "I extracted precipitations records for Willmington from 2000/01/01 through today. The goal is to extract from these data the daily precipitation starting on 2018/01/01 and assess if these data are different from a population with mean  μ=0.14  standard deviation  σ=0.38 .\n",
    "\n",
    "Set a p-value at  2σ :  p=0.05"
   ]
  },
  {
   "cell_type": "code",
   "execution_count": 3,
   "metadata": {},
   "outputs": [
    {
     "data": {
      "text/html": [
       "<div>\n",
       "<style scoped>\n",
       "    .dataframe tbody tr th:only-of-type {\n",
       "        vertical-align: middle;\n",
       "    }\n",
       "\n",
       "    .dataframe tbody tr th {\n",
       "        vertical-align: top;\n",
       "    }\n",
       "\n",
       "    .dataframe thead th {\n",
       "        text-align: right;\n",
       "    }\n",
       "</style>\n",
       "<table border=\"1\" class=\"dataframe\">\n",
       "  <thead>\n",
       "    <tr style=\"text-align: right;\">\n",
       "      <th></th>\n",
       "      <th>STATION</th>\n",
       "      <th>NAME</th>\n",
       "      <th>DATE</th>\n",
       "      <th>PRCP</th>\n",
       "      <th>SNOW</th>\n",
       "      <th>SNWD</th>\n",
       "      <th>WESD</th>\n",
       "      <th>WESF</th>\n",
       "    </tr>\n",
       "  </thead>\n",
       "  <tbody>\n",
       "    <tr>\n",
       "      <th>0</th>\n",
       "      <td>US1DENC0010</td>\n",
       "      <td>NEWPORT 2.4 WNW, DE US</td>\n",
       "      <td>2010-01-01</td>\n",
       "      <td>0.28</td>\n",
       "      <td>NaN</td>\n",
       "      <td>0.0</td>\n",
       "      <td>NaN</td>\n",
       "      <td>NaN</td>\n",
       "    </tr>\n",
       "    <tr>\n",
       "      <th>1</th>\n",
       "      <td>US1DENC0010</td>\n",
       "      <td>NEWPORT 2.4 WNW, DE US</td>\n",
       "      <td>2010-01-02</td>\n",
       "      <td>0.00</td>\n",
       "      <td>0.0</td>\n",
       "      <td>NaN</td>\n",
       "      <td>NaN</td>\n",
       "      <td>NaN</td>\n",
       "    </tr>\n",
       "    <tr>\n",
       "      <th>2</th>\n",
       "      <td>US1DENC0010</td>\n",
       "      <td>NEWPORT 2.4 WNW, DE US</td>\n",
       "      <td>2010-01-03</td>\n",
       "      <td>0.00</td>\n",
       "      <td>0.0</td>\n",
       "      <td>NaN</td>\n",
       "      <td>NaN</td>\n",
       "      <td>NaN</td>\n",
       "    </tr>\n",
       "    <tr>\n",
       "      <th>3</th>\n",
       "      <td>US1DENC0010</td>\n",
       "      <td>NEWPORT 2.4 WNW, DE US</td>\n",
       "      <td>2010-01-04</td>\n",
       "      <td>0.00</td>\n",
       "      <td>0.0</td>\n",
       "      <td>NaN</td>\n",
       "      <td>NaN</td>\n",
       "      <td>NaN</td>\n",
       "    </tr>\n",
       "    <tr>\n",
       "      <th>4</th>\n",
       "      <td>US1DENC0010</td>\n",
       "      <td>NEWPORT 2.4 WNW, DE US</td>\n",
       "      <td>2010-01-05</td>\n",
       "      <td>0.00</td>\n",
       "      <td>NaN</td>\n",
       "      <td>NaN</td>\n",
       "      <td>NaN</td>\n",
       "      <td>NaN</td>\n",
       "    </tr>\n",
       "  </tbody>\n",
       "</table>\n",
       "</div>"
      ],
      "text/plain": [
       "       STATION                    NAME        DATE  PRCP  SNOW  SNWD  WESD  \\\n",
       "0  US1DENC0010  NEWPORT 2.4 WNW, DE US  2010-01-01  0.28   NaN   0.0   NaN   \n",
       "1  US1DENC0010  NEWPORT 2.4 WNW, DE US  2010-01-02  0.00   0.0   NaN   NaN   \n",
       "2  US1DENC0010  NEWPORT 2.4 WNW, DE US  2010-01-03  0.00   0.0   NaN   NaN   \n",
       "3  US1DENC0010  NEWPORT 2.4 WNW, DE US  2010-01-04  0.00   0.0   NaN   NaN   \n",
       "4  US1DENC0010  NEWPORT 2.4 WNW, DE US  2010-01-05  0.00   NaN   NaN   NaN   \n",
       "\n",
       "   WESF  \n",
       "0   NaN  \n",
       "1   NaN  \n",
       "2   NaN  \n",
       "3   NaN  \n",
       "4   NaN  "
      ]
     },
     "execution_count": 3,
     "metadata": {},
     "output_type": "execute_result"
    }
   ],
   "source": [
    "## rain data extraction\n",
    "rain = pd.read_csv(\"https://raw.githubusercontent.com/fedhere/DSPS/master/labs/1865331.csv\")\n",
    "rain.head()"
   ]
  },
  {
   "cell_type": "markdown",
   "metadata": {},
   "source": [
    "The  Z  statistics is :  Z=X¯−μs  and  s=σ/(√N)  (you should know what all those symbols mean)\n",
    "\n",
    "Extract from the dataframe above the columns \"DATE\" and \"PRCP\" (precipitation)\n",
    "\n",
    "Convert the dataframe DATE from string to datetime type using pd.datetime()\n",
    "\n",
    "Select the data rows with date later than 2018/01/01. If your data type conversion worked well you should be able to set the condition as rain[<newcolumnname>]> pd.datetime(\"2018/01/01\") use the technique called \"broadcasting\" to select the rows:\n",
    "\n",
    "rain[ rain[<newcolumnname>]> pd.datetime(\"2018/01/01\")] which you can save as a new dataframe\n",
    "\n",
    "Calculate the mean of the sample you created  X¯  and plug it in the numerator of the  Z  statistics:  X¯−μ \n",
    "Calculate the size of the sample and plug it in the formula. Now you have  Z \n",
    "Knowing the distribution of  Z∼N(μ=0,σ=1)  and with a confidence  p=0.05 , did you find that the time period 2018/01/01---today has a statistically significant different amount of rain?"
   ]
  },
  {
   "cell_type": "markdown",
   "metadata": {},
   "source": [
    "## Following the Instructions below we will get Z value"
   ]
  },
  {
   "cell_type": "code",
   "execution_count": 4,
   "metadata": {
    "scrolled": true
   },
   "outputs": [
    {
     "name": "stdout",
     "output_type": "stream",
     "text": [
      "1.664421697050835\n"
     ]
    },
    {
     "name": "stderr",
     "output_type": "stream",
     "text": [
      "/home/arehman/.local/lib/python2.7/site-packages/ipykernel_launcher.py:8: SettingWithCopyWarning: \n",
      "A value is trying to be set on a copy of a slice from a DataFrame.\n",
      "Try using .loc[row_indexer,col_indexer] = value instead\n",
      "\n",
      "See the caveats in the documentation: http://pandas.pydata.org/pandas-docs/stable/indexing.html#indexing-view-versus-copy\n",
      "  \n"
     ]
    }
   ],
   "source": [
    "# rain[\"DATE\"] ## getting only values from one coulmns \n",
    "# rain[\"DATE\"].values ## convert them in to array\n",
    "\n",
    "rainonly = rain[[\"DATE\", \"PRCP\"]]\n",
    "\n",
    "# rainonly.DATE.dtype ## checking the data type in the onject\n",
    "\n",
    "rainonly['date'] = pd.to_datetime(rainonly.DATE) ## converting into readable format\n",
    "\n",
    "# rainonly['date'] > pd.to_datetime(\"2018/01/01\")\n",
    "\n",
    "recent = rainonly[rainonly['date'] > pd.to_datetime(\"2018/01/01\")] ## picking a sample from the population\n",
    "\n",
    "# maean and std of sample\n",
    "mean_sample = (recent['PRCP'].values).mean()\n",
    "std_sample = (recent['PRCP'].values).std()\n",
    "\n",
    "# mean and std of population\n",
    "mean_pop = 0.137\n",
    "std_pop = 0.38\n",
    "N = len(recent) ## length of sample\n",
    "\n",
    "# applying Z-test\n",
    "Z = (mean_sample -mean_pop)/(std_pop/np.sqrt(N))\n",
    "print Z"
   ]
  },
  {
   "cell_type": "markdown",
   "metadata": {},
   "source": [
    "## Conclusion: The Z value is within the 2 sigma value (p-value of 0.05), So we can not reject the null hypothesis. \n",
    "### I did not find that the time period 2018/01/01---today has a statistically significant different amount of rain."
   ]
  },
  {
   "cell_type": "code",
   "execution_count": null,
   "metadata": {},
   "outputs": [],
   "source": []
  }
 ],
 "metadata": {
  "kernelspec": {
   "display_name": "Python 2",
   "language": "python",
   "name": "python2"
  },
  "language_info": {
   "codemirror_mode": {
    "name": "ipython",
    "version": 2
   },
   "file_extension": ".py",
   "mimetype": "text/x-python",
   "name": "python",
   "nbconvert_exporter": "python",
   "pygments_lexer": "ipython2",
   "version": "2.7.16"
  }
 },
 "nbformat": 4,
 "nbformat_minor": 2
}
